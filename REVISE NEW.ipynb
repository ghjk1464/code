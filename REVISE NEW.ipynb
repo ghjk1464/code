{
 "cells": [
  {
   "cell_type": "code",
   "execution_count": null,
   "id": "fd80d130-3d61-4240-8906-d755947bacbe",
   "metadata": {},
   "outputs": [],
   "source": [
    "Fobenius tangent"
   ]
  },
  {
   "cell_type": "code",
   "execution_count": 15,
   "id": "df0d8dac-b3e2-4b03-b9f7-77e1aef12316",
   "metadata": {},
   "outputs": [
    {
     "name": "stdout",
     "output_type": "stream",
     "text": [
      "T_0(x): -u/(1 - u) + 1/(1 - u)\n",
      "T_1(x): -u*x/(1 - u) - 2*u/((1 - u)*(u - 1)) + x/(1 - u) + 2/((1 - u)*(u - 1))\n",
      "T_2(x): -u*x**2/(1 - u) - 4*u*x/((1 - u)*(u - 1)) - 2*u*(2/(u - 1) + 4/(u - 1)**2)/(1 - u) + x**2/(1 - u) + 4*x/((1 - u)*(u - 1)) + 2*(2/(u - 1) + 4/(u - 1)**2)/(1 - u)\n",
      "T_3(x): -u*x**3/(1 - u) - 6*u*x**2/((1 - u)*(u - 1)) - 6*u*x*(2/(u - 1) + 4/(u - 1)**2)/(1 - u) - 6*u*(4/(3*(u - 1)) + 8/(u - 1)**2 + 8/(u - 1)**3)/(1 - u) + x**3/(1 - u) + 6*x**2/((1 - u)*(u - 1)) + 6*x*(2/(u - 1) + 4/(u - 1)**2)/(1 - u) + 6*(4/(3*(u - 1)) + 8/(u - 1)**2 + 8/(u - 1)**3)/(1 - u)\n",
      "T_4(x): -u*x**4/(1 - u) - 8*u*x**3/((1 - u)*(u - 1)) - 12*u*x**2*(2/(u - 1) + 4/(u - 1)**2)/(1 - u) - 24*u*x*(4/(3*(u - 1)) + 8/(u - 1)**2 + 8/(u - 1)**3)/(1 - u) - 24*u*(2/(3*(u - 1)) + 28/(3*(u - 1)**2) + 24/(u - 1)**3 + 16/(u - 1)**4)/(1 - u) + x**4/(1 - u) + 8*x**3/((1 - u)*(u - 1)) + 12*x**2*(2/(u - 1) + 4/(u - 1)**2)/(1 - u) + 24*x*(4/(3*(u - 1)) + 8/(u - 1)**2 + 8/(u - 1)**3)/(1 - u) + 24*(2/(3*(u - 1)) + 28/(3*(u - 1)**2) + 24/(u - 1)**3 + 16/(u - 1)**4)/(1 - u)\n"
     ]
    }
   ],
   "source": [
    "import sympy as sp\n",
    "\n",
    "# Define symbols\n",
    "x, t, u = sp.symbols('x t u')\n",
    "\n",
    "# Define the generating function\n",
    "generating_function = ((1 - u) / (sp.exp(2 * t) - u)) * sp.exp(x * t)\n",
    "\n",
    "# Number of terms to compute\n",
    "n_terms = 5\n",
    "\n",
    "# List to store the tangent polynomials\n",
    "tangent_polynomials = []\n",
    "\n",
    "# Compute the first few tangent polynomials\n",
    "for n in range(n_terms):\n",
    "    # Expand the generating function in a Taylor series around t = 0 up to order n + 1\n",
    "    series_expansion = sp.series(generating_function, t, 0, n + 1)\n",
    "    \n",
    "    # Extract the coefficient of t^n and multiply by n! to get the tangent polynomial\n",
    "    coefficient = series_expansion.coeff(t, n)\n",
    "    T_n = sp.factorial(n) * coefficient  # multiply by n! to get T_n(x)\n",
    "    \n",
    "    # Store the polynomial\n",
    "    tangent_polynomials.append(T_n)\n",
    "\n",
    "# Print the first few tangent polynomials\n",
    "for n, poly in enumerate(tangent_polynomials):\n",
    "    print(f\"T_{n}(x): {poly}\")"
   ]
  },
  {
   "cell_type": "code",
   "execution_count": null,
   "id": "2e431c8f-4286-45ab-ae4e-d2546a526654",
   "metadata": {},
   "outputs": [],
   "source": [
    "Frobenius-tangent numbers"
   ]
  },
  {
   "cell_type": "code",
   "execution_count": 13,
   "id": "2492d4d8-ba51-4bbf-9af7-b69def66a201",
   "metadata": {},
   "outputs": [
    {
     "name": "stdout",
     "output_type": "stream",
     "text": [
      "T_0(x): -u/(1 - u) + 1/(1 - u)\n",
      "T_1(x): -2*u/((1 - u)*(u - 1)) + 2/((1 - u)*(u - 1))\n",
      "T_2(x): -2*u*(2/(u - 1) + 4/(u - 1)**2)/(1 - u) + 2*(2/(u - 1) + 4/(u - 1)**2)/(1 - u)\n",
      "T_3(x): -6*u*(4/(3*(u - 1)) + 8/(u - 1)**2 + 8/(u - 1)**3)/(1 - u) + 6*(4/(3*(u - 1)) + 8/(u - 1)**2 + 8/(u - 1)**3)/(1 - u)\n",
      "T_4(x): -24*u*(2/(3*(u - 1)) + 28/(3*(u - 1)**2) + 24/(u - 1)**3 + 16/(u - 1)**4)/(1 - u) + 24*(2/(3*(u - 1)) + 28/(3*(u - 1)**2) + 24/(u - 1)**3 + 16/(u - 1)**4)/(1 - u)\n"
     ]
    }
   ],
   "source": [
    "import sympy as sp\n",
    "\n",
    "# Define symbols\n",
    "x, t, u = sp.symbols('x t u')\n",
    "\n",
    "# Define the generating function\n",
    "generating_function = ((1 - u) / (sp.exp(2 * t) - u)) \n",
    "\n",
    "# Number of terms to compute\n",
    "n_terms = 5\n",
    "\n",
    "# List to store the tangent polynomials\n",
    "tangent_polynomials = []\n",
    "\n",
    "# Compute the first few tangent polynomials\n",
    "for n in range(n_terms):\n",
    "    # Expand the generating function in a Taylor series around t = 0 up to order n + 1\n",
    "    series_expansion = sp.series(generating_function, t, 0, n + 1)\n",
    "    \n",
    "    # Extract the coefficient of t^n and multiply by n! to get the tangent polynomial\n",
    "    coefficient = series_expansion.coeff(t, n)\n",
    "    T_n = sp.factorial(n) * coefficient  # multiply by n! to get T_n(x)\n",
    "    \n",
    "    # Store the polynomial\n",
    "    tangent_polynomials.append(T_n)\n",
    "\n",
    "# Print the first few tangent polynomials\n",
    "for n, poly in enumerate(tangent_polynomials):\n",
    "    print(f\"T_{n}(x): {poly}\")"
   ]
  },
  {
   "cell_type": "code",
   "execution_count": null,
   "id": "20763013-035f-4c4a-8733-c46628361ca5",
   "metadata": {},
   "outputs": [],
   "source": [
    "type 1"
   ]
  },
  {
   "cell_type": "code",
   "execution_count": 1,
   "id": "61995594-8344-4514-a76a-3a93ab87bd3b",
   "metadata": {},
   "outputs": [
    {
     "name": "stdout",
     "output_type": "stream",
     "text": [
      "I_(n,1)^((k))(x, u): -u/(1 - u) + 1/(1 - u)\n",
      "I_(n,1)^((k))(x, u): -u**2/(2*(1 - u)) - u*x/(1 - u) + u/(1 - u) - 2*u/((1 - u)*(u - 1)) + x/(1 - u) - 1/(2*(1 - u)) + 2/((1 - u)*(u - 1)) + (1 - u)/2**k\n",
      "I_(n,1)^((k))(x, u): -u**3/(3*(1 - u)) - u**2*x/(1 - u) + u**2/(1 - u) - 2*u**2/((1 - u)*(u - 1)) - u*x**2/(1 - u) + 2*u*x/(1 - u) - 4*u*x/((1 - u)*(u - 1)) - 2*u*(2/(u - 1) + 4/(u - 1)**2)/(1 - u) - u/(1 - u) + 4*u/((1 - u)*(u - 1)) + x**2/(1 - u) - x/(1 - u) + 4*x/((1 - u)*(u - 1)) + 2*(2/(u - 1) + 4/(u - 1)**2)/(1 - u) + 1/(3*(1 - u)) - 2/((1 - u)*(u - 1)) + 2*(1 - u)**2/3**k + 2*x*(1 - u)/2**k + 2*(1 - u)*(u**2/(u - 1) - 2*u/(u - 1) + 1/(u - 1))/2**k + 4*(1 - u)/(2**k*(u - 1))\n",
      "I_(n,1)^((k))(x, u): -u**4/(4*(1 - u)) - u**3*x/(1 - u) + u**3/(1 - u) - 2*u**3/((1 - u)*(u - 1)) - 3*u**2*x**2/(2*(1 - u)) + 3*u**2*x/(1 - u) - 6*u**2*x/((1 - u)*(u - 1)) - 3*u**2*(2/(u - 1) + 4/(u - 1)**2)/(1 - u) - 3*u**2/(2*(1 - u)) + 6*u**2/((1 - u)*(u - 1)) - u*x**3/(1 - u) + 3*u*x**2/(1 - u) - 6*u*x**2/((1 - u)*(u - 1)) - 6*u*x*(2/(u - 1) + 4/(u - 1)**2)/(1 - u) - 3*u*x/(1 - u) + 12*u*x/((1 - u)*(u - 1)) + 6*u*(2/(u - 1) + 4/(u - 1)**2)/(1 - u) - 6*u*(4/(3*(u - 1)) + 8/(u - 1)**2 + 8/(u - 1)**3)/(1 - u) + u/(1 - u) - 6*u/((1 - u)*(u - 1)) + x**3/(1 - u) - 3*x**2/(2*(1 - u)) + 6*x**2/((1 - u)*(u - 1)) + 6*x*(2/(u - 1) + 4/(u - 1)**2)/(1 - u) + x/(1 - u) - 6*x/((1 - u)*(u - 1)) - 3*(2/(u - 1) + 4/(u - 1)**2)/(1 - u) + 6*(4/(3*(u - 1)) + 8/(u - 1)**2 + 8/(u - 1)**3)/(1 - u) - 1/(4*(1 - u)) + 2/((1 - u)*(u - 1)) + 6*(1 - u)**3/4**k + 6*x*(1 - u)**2/3**k + 6*(1 - u)**2*(3*u**2/(2*(u - 1)) - 3*u/(u - 1) + 3/(2*(u - 1)))/3**k + 12*(1 - u)**2/(3**k*(u - 1)) + 3*x**2*(1 - u)/2**k + 6*x*(1 - u)*(u**2/(u - 1) - 2*u/(u - 1) + 1/(u - 1))/2**k + 12*x*(1 - u)/(2**k*(u - 1)) + 6*(1 - u)*(2/(u - 1) + 4/(u - 1)**2)/2**k + 6*(1 - u)*(u**3/(3*(u - 1)) - u**2/(u - 1) + u/(u - 1) + (u**2/(2*(u - 1)) - u/(u - 1) + 1/(2*(u - 1)))**2 - 1/(3*(u - 1)))/2**k + 12*(1 - u)*(u**2/(u - 1) - 2*u/(u - 1) + 1/(u - 1))/(2**k*(u - 1))\n",
      "I_(n,1)^((k))(x, u): -u**5/(5*(1 - u)) - u**4*x/(1 - u) + u**4/(1 - u) - 2*u**4/((1 - u)*(u - 1)) - 2*u**3*x**2/(1 - u) + 4*u**3*x/(1 - u) - 8*u**3*x/((1 - u)*(u - 1)) - 4*u**3*(2/(u - 1) + 4/(u - 1)**2)/(1 - u) - 2*u**3/(1 - u) + 8*u**3/((1 - u)*(u - 1)) - 2*u**2*x**3/(1 - u) + 6*u**2*x**2/(1 - u) - 12*u**2*x**2/((1 - u)*(u - 1)) - 12*u**2*x*(2/(u - 1) + 4/(u - 1)**2)/(1 - u) - 6*u**2*x/(1 - u) + 24*u**2*x/((1 - u)*(u - 1)) + 12*u**2*(2/(u - 1) + 4/(u - 1)**2)/(1 - u) - 12*u**2*(4/(3*(u - 1)) + 8/(u - 1)**2 + 8/(u - 1)**3)/(1 - u) + 2*u**2/(1 - u) - 12*u**2/((1 - u)*(u - 1)) - u*x**4/(1 - u) + 4*u*x**3/(1 - u) - 8*u*x**3/((1 - u)*(u - 1)) - 12*u*x**2*(2/(u - 1) + 4/(u - 1)**2)/(1 - u) - 6*u*x**2/(1 - u) + 24*u*x**2/((1 - u)*(u - 1)) + 24*u*x*(2/(u - 1) + 4/(u - 1)**2)/(1 - u) - 24*u*x*(4/(3*(u - 1)) + 8/(u - 1)**2 + 8/(u - 1)**3)/(1 - u) + 4*u*x/(1 - u) - 24*u*x/((1 - u)*(u - 1)) - 12*u*(2/(u - 1) + 4/(u - 1)**2)/(1 - u) + 24*u*(4/(3*(u - 1)) + 8/(u - 1)**2 + 8/(u - 1)**3)/(1 - u) - 24*u*(2/(3*(u - 1)) + 28/(3*(u - 1)**2) + 24/(u - 1)**3 + 16/(u - 1)**4)/(1 - u) - u/(1 - u) + 8*u/((1 - u)*(u - 1)) + x**4/(1 - u) - 2*x**3/(1 - u) + 8*x**3/((1 - u)*(u - 1)) + 12*x**2*(2/(u - 1) + 4/(u - 1)**2)/(1 - u) + 2*x**2/(1 - u) - 12*x**2/((1 - u)*(u - 1)) - 12*x*(2/(u - 1) + 4/(u - 1)**2)/(1 - u) + 24*x*(4/(3*(u - 1)) + 8/(u - 1)**2 + 8/(u - 1)**3)/(1 - u) - x/(1 - u) + 8*x/((1 - u)*(u - 1)) + 4*(2/(u - 1) + 4/(u - 1)**2)/(1 - u) - 12*(4/(3*(u - 1)) + 8/(u - 1)**2 + 8/(u - 1)**3)/(1 - u) + 24*(2/(3*(u - 1)) + 28/(3*(u - 1)**2) + 24/(u - 1)**3 + 16/(u - 1)**4)/(1 - u) + 1/(5*(1 - u)) - 2/((1 - u)*(u - 1)) + 24*(1 - u)**4/5**k + 24*x*(1 - u)**3/4**k + 24*(1 - u)**3*(2*u**2/(u - 1) - 4*u/(u - 1) + 2/(u - 1))/4**k + 48*(1 - u)**3/(4**k*(u - 1)) + 12*x**2*(1 - u)**2/3**k + 24*x*(1 - u)**2*(3*u**2/(2*(u - 1)) - 3*u/(u - 1) + 3/(2*(u - 1)))/3**k + 48*x*(1 - u)**2/(3**k*(u - 1)) + 24*(1 - u)**2*(2/(u - 1) + 4/(u - 1)**2)/3**k + 24*(1 - u)**2*(u**3/(2*(u - 1)) - 3*u**2/(2*(u - 1)) + 3*u/(2*(u - 1)) + 3*(u**2/(2*(u - 1)) - u/(u - 1) + 1/(2*(u - 1)))**2 - 1/(2*(u - 1)))/3**k + 48*(1 - u)**2*(3*u**2/(2*(u - 1)) - 3*u/(u - 1) + 3/(2*(u - 1)))/(3**k*(u - 1)) + 4*x**3*(1 - u)/2**k + 12*x**2*(1 - u)*(u**2/(u - 1) - 2*u/(u - 1) + 1/(u - 1))/2**k + 24*x**2*(1 - u)/(2**k*(u - 1)) + 24*x*(1 - u)*(2/(u - 1) + 4/(u - 1)**2)/2**k + 24*x*(1 - u)*(u**3/(3*(u - 1)) - u**2/(u - 1) + u/(u - 1) + (u**2/(2*(u - 1)) - u/(u - 1) + 1/(2*(u - 1)))**2 - 1/(3*(u - 1)))/2**k + 48*x*(1 - u)*(u**2/(u - 1) - 2*u/(u - 1) + 1/(u - 1))/(2**k*(u - 1)) + 24*(1 - u)*(2/(u - 1) + 4/(u - 1)**2)*(u**2/(u - 1) - 2*u/(u - 1) + 1/(u - 1))/2**k + 24*(1 - u)*(4/(3*(u - 1)) + 8/(u - 1)**2 + 8/(u - 1)**3)/2**k + 24*(1 - u)*(u**4/(12*(u - 1)) - u**3/(3*(u - 1)) + u**2/(2*(u - 1)) - u/(3*(u - 1)) + 2*(u**2/(2*(u - 1)) - u/(u - 1) + 1/(2*(u - 1)))*(u**3/(6*(u - 1)) - u**2/(2*(u - 1)) + u/(2*(u - 1)) - 1/(6*(u - 1))) + 1/(12*(u - 1)))/2**k + 48*(1 - u)*(u**3/(3*(u - 1)) - u**2/(u - 1) + u/(u - 1) + (u**2/(2*(u - 1)) - u/(u - 1) + 1/(2*(u - 1)))**2 - 1/(3*(u - 1)))/(2**k*(u - 1))\n"
     ]
    }
   ],
   "source": [
    "import sympy as sp\n",
    "\n",
    "# Define symbols\n",
    "x, t, u, k = sp.symbols('x t u k')\n",
    "\n",
    "# Define the polylogarithmic function l_i_k(x)\n",
    "def l_i_k(x, k, n_terms=10):\n",
    "    return sum((x**n) / (n**k) for n in range(1, n_terms + 1))\n",
    "\n",
    "# Define the generating function for Type I Frobenius-type poly-tangent polynomials\n",
    "numerator = l_i_k(1 - sp.exp(-(1 - u) * t), k) * sp.exp(x * t)\n",
    "denominator = t * (sp.exp(2 * t) - u)\n",
    "generating_function = numerator / denominator\n",
    "\n",
    "# Number of terms to compute\n",
    "n_terms = 5\n",
    "\n",
    "# List to store the Type I Frobenius-type poly-tangent polynomials\n",
    "Frobenius_poly_tangent_polynomials = []\n",
    "\n",
    "# Compute the first few Type I Frobenius-type poly-tangent polynomials\n",
    "for n in range(n_terms):\n",
    "    # Expand the generating function in a Taylor series around t = 0 up to order n + 1\n",
    "    series_expansion = sp.series(generating_function, t, 0, n + 1)\n",
    "    \n",
    "    # Extract the coefficient of t^n and multiply by n! to get the polynomial\n",
    "    coefficient = series_expansion.coeff(t, n)\n",
    "    I_n = sp.factorial(n) * coefficient  # multiply by n! to get I_n(x, u)\n",
    "    \n",
    "    # Store the polynomial\n",
    "    Frobenius_poly_tangent_polynomials.append(I_n)\n",
    "\n",
    "# Print the first few Type I Frobenius-type poly-tangent polynomials\n",
    "for n, poly in enumerate(Frobenius_poly_tangent_polynomials):\n",
    "    print(f\"I_(n,1)^((k))(x, u): {poly}\")"
   ]
  },
  {
   "cell_type": "code",
   "execution_count": null,
   "id": "7c0f23f4-66bf-4340-90ca-b2ef1a0d8608",
   "metadata": {},
   "outputs": [],
   "source": [
    "type 1 numbers"
   ]
  },
  {
   "cell_type": "code",
   "execution_count": 2,
   "id": "7dec5f53-af7d-4087-ba8a-363564a2e005",
   "metadata": {},
   "outputs": [
    {
     "name": "stdout",
     "output_type": "stream",
     "text": [
      "I_(n,1)^((k))(x, u): -u/(1 - u) + 1/(1 - u)\n",
      "I_(n,1)^((k))(x, u): -u**2/(2*(1 - u)) + u/(1 - u) - 2*u/((1 - u)*(u - 1)) - 1/(2*(1 - u)) + 2/((1 - u)*(u - 1)) + (1 - u)/2**k\n",
      "I_(n,1)^((k))(x, u): -u**3/(3*(1 - u)) + u**2/(1 - u) - 2*u**2/((1 - u)*(u - 1)) - 2*u*(2/(u - 1) + 4/(u - 1)**2)/(1 - u) - u/(1 - u) + 4*u/((1 - u)*(u - 1)) + 2*(2/(u - 1) + 4/(u - 1)**2)/(1 - u) + 1/(3*(1 - u)) - 2/((1 - u)*(u - 1)) + 2*(1 - u)**2/3**k + 2*(1 - u)*(u**2/(u - 1) - 2*u/(u - 1) + 1/(u - 1))/2**k + 4*(1 - u)/(2**k*(u - 1))\n",
      "I_(n,1)^((k))(x, u): -u**4/(4*(1 - u)) + u**3/(1 - u) - 2*u**3/((1 - u)*(u - 1)) - 3*u**2*(2/(u - 1) + 4/(u - 1)**2)/(1 - u) - 3*u**2/(2*(1 - u)) + 6*u**2/((1 - u)*(u - 1)) + 6*u*(2/(u - 1) + 4/(u - 1)**2)/(1 - u) - 6*u*(4/(3*(u - 1)) + 8/(u - 1)**2 + 8/(u - 1)**3)/(1 - u) + u/(1 - u) - 6*u/((1 - u)*(u - 1)) - 3*(2/(u - 1) + 4/(u - 1)**2)/(1 - u) + 6*(4/(3*(u - 1)) + 8/(u - 1)**2 + 8/(u - 1)**3)/(1 - u) - 1/(4*(1 - u)) + 2/((1 - u)*(u - 1)) + 6*(1 - u)**3/4**k + 6*(1 - u)**2*(3*u**2/(2*(u - 1)) - 3*u/(u - 1) + 3/(2*(u - 1)))/3**k + 12*(1 - u)**2/(3**k*(u - 1)) + 6*(1 - u)*(2/(u - 1) + 4/(u - 1)**2)/2**k + 6*(1 - u)*(u**3/(3*(u - 1)) - u**2/(u - 1) + u/(u - 1) + (u**2/(2*(u - 1)) - u/(u - 1) + 1/(2*(u - 1)))**2 - 1/(3*(u - 1)))/2**k + 12*(1 - u)*(u**2/(u - 1) - 2*u/(u - 1) + 1/(u - 1))/(2**k*(u - 1))\n",
      "I_(n,1)^((k))(x, u): -u**5/(5*(1 - u)) + u**4/(1 - u) - 2*u**4/((1 - u)*(u - 1)) - 4*u**3*(2/(u - 1) + 4/(u - 1)**2)/(1 - u) - 2*u**3/(1 - u) + 8*u**3/((1 - u)*(u - 1)) + 12*u**2*(2/(u - 1) + 4/(u - 1)**2)/(1 - u) - 12*u**2*(4/(3*(u - 1)) + 8/(u - 1)**2 + 8/(u - 1)**3)/(1 - u) + 2*u**2/(1 - u) - 12*u**2/((1 - u)*(u - 1)) - 12*u*(2/(u - 1) + 4/(u - 1)**2)/(1 - u) + 24*u*(4/(3*(u - 1)) + 8/(u - 1)**2 + 8/(u - 1)**3)/(1 - u) - 24*u*(2/(3*(u - 1)) + 28/(3*(u - 1)**2) + 24/(u - 1)**3 + 16/(u - 1)**4)/(1 - u) - u/(1 - u) + 8*u/((1 - u)*(u - 1)) + 4*(2/(u - 1) + 4/(u - 1)**2)/(1 - u) - 12*(4/(3*(u - 1)) + 8/(u - 1)**2 + 8/(u - 1)**3)/(1 - u) + 24*(2/(3*(u - 1)) + 28/(3*(u - 1)**2) + 24/(u - 1)**3 + 16/(u - 1)**4)/(1 - u) + 1/(5*(1 - u)) - 2/((1 - u)*(u - 1)) + 24*(1 - u)**4/5**k + 24*(1 - u)**3*(2*u**2/(u - 1) - 4*u/(u - 1) + 2/(u - 1))/4**k + 48*(1 - u)**3/(4**k*(u - 1)) + 24*(1 - u)**2*(2/(u - 1) + 4/(u - 1)**2)/3**k + 24*(1 - u)**2*(u**3/(2*(u - 1)) - 3*u**2/(2*(u - 1)) + 3*u/(2*(u - 1)) + 3*(u**2/(2*(u - 1)) - u/(u - 1) + 1/(2*(u - 1)))**2 - 1/(2*(u - 1)))/3**k + 48*(1 - u)**2*(3*u**2/(2*(u - 1)) - 3*u/(u - 1) + 3/(2*(u - 1)))/(3**k*(u - 1)) + 24*(1 - u)*(2/(u - 1) + 4/(u - 1)**2)*(u**2/(u - 1) - 2*u/(u - 1) + 1/(u - 1))/2**k + 24*(1 - u)*(4/(3*(u - 1)) + 8/(u - 1)**2 + 8/(u - 1)**3)/2**k + 24*(1 - u)*(u**4/(12*(u - 1)) - u**3/(3*(u - 1)) + u**2/(2*(u - 1)) - u/(3*(u - 1)) + 2*(u**2/(2*(u - 1)) - u/(u - 1) + 1/(2*(u - 1)))*(u**3/(6*(u - 1)) - u**2/(2*(u - 1)) + u/(2*(u - 1)) - 1/(6*(u - 1))) + 1/(12*(u - 1)))/2**k + 48*(1 - u)*(u**3/(3*(u - 1)) - u**2/(u - 1) + u/(u - 1) + (u**2/(2*(u - 1)) - u/(u - 1) + 1/(2*(u - 1)))**2 - 1/(3*(u - 1)))/(2**k*(u - 1))\n"
     ]
    }
   ],
   "source": [
    "import sympy as sp\n",
    "\n",
    "# Define symbols\n",
    "x, t, u, k = sp.symbols('x t u k')\n",
    "\n",
    "# Define the polylogarithmic function l_i_k(x)\n",
    "def l_i_k(x, k, n_terms=10):\n",
    "    return sum((x**n) / (n**k) for n in range(1, n_terms + 1))\n",
    "\n",
    "# Define the generating function for Type I Frobenius-type poly-tangent polynomials\n",
    "numerator = l_i_k(1 - sp.exp(-(1 - u) * t), k) \n",
    "denominator = t * (sp.exp(2 * t) - u)\n",
    "generating_function = numerator / denominator\n",
    "\n",
    "# Number of terms to compute\n",
    "n_terms = 5\n",
    "\n",
    "# List to store the Type I Frobenius-type poly-tangent polynomials\n",
    "Frobenius_poly_tangent_polynomials = []\n",
    "\n",
    "# Compute the first few Type I Frobenius-type poly-tangent polynomials\n",
    "for n in range(n_terms):\n",
    "    # Expand the generating function in a Taylor series around t = 0 up to order n + 1\n",
    "    series_expansion = sp.series(generating_function, t, 0, n + 1)\n",
    "    \n",
    "    # Extract the coefficient of t^n and multiply by n! to get the polynomial\n",
    "    coefficient = series_expansion.coeff(t, n)\n",
    "    I_n = sp.factorial(n) * coefficient  # multiply by n! to get I_n(x, u)\n",
    "    \n",
    "    # Store the polynomial\n",
    "    Frobenius_poly_tangent_polynomials.append(I_n)\n",
    "\n",
    "# Print the first few Type I Frobenius-type poly-tangent polynomials\n",
    "for n, poly in enumerate(Frobenius_poly_tangent_polynomials):\n",
    "    print(f\"I_(n,1)^((k))(x, u): {poly}\")"
   ]
  },
  {
   "cell_type": "code",
   "execution_count": null,
   "id": "a2709414-1c0b-464a-9594-78562462929d",
   "metadata": {},
   "outputs": [],
   "source": [
    "type 1 cosine"
   ]
  },
  {
   "cell_type": "code",
   "execution_count": 4,
   "id": "4d9d6ded-47a9-4fe4-9fb4-d25c19ea582c",
   "metadata": {},
   "outputs": [
    {
     "name": "stdout",
     "output_type": "stream",
     "text": [
      "I_(n,1)^((k))(x, u): -u/(1 - u) + 1/(1 - u)\n",
      "I_(n,1)^((k))(x, u): -u**2/(2*(1 - u)) - u*x/(1 - u) + u/(1 - u) - 2*u/((1 - u)*(u - 1)) + x/(1 - u) - 1/(2*(1 - u)) + 2/((1 - u)*(u - 1)) + (1 - u)/2**k\n",
      "I_(n,1)^((k))(x, u): -u**3/(3*(1 - u)) - u**2*x/(1 - u) + u**2/(1 - u) - 2*u**2/((1 - u)*(u - 1)) - u*x**2/(1 - u) + 2*u*x/(1 - u) - 4*u*x/((1 - u)*(u - 1)) + u*y**2/(1 - u) - 2*u*(2/(u - 1) + 4/(u - 1)**2)/(1 - u) - u/(1 - u) + 4*u/((1 - u)*(u - 1)) + x**2/(1 - u) - x/(1 - u) + 4*x/((1 - u)*(u - 1)) - y**2/(1 - u) + 2*(2/(u - 1) + 4/(u - 1)**2)/(1 - u) + 1/(3*(1 - u)) - 2/((1 - u)*(u - 1)) + 2*(1 - u)**2/3**k + 2*x*(1 - u)/2**k + 2*(1 - u)*(u**2/(u - 1) - 2*u/(u - 1) + 1/(u - 1))/2**k + 4*(1 - u)/(2**k*(u - 1))\n",
      "I_(n,1)^((k))(x, u): -u**4/(4*(1 - u)) - u**3*x/(1 - u) + u**3/(1 - u) - 2*u**3/((1 - u)*(u - 1)) - 3*u**2*x**2/(2*(1 - u)) + 3*u**2*x/(1 - u) - 6*u**2*x/((1 - u)*(u - 1)) + 3*u**2*y**2/(2*(1 - u)) - 3*u**2*(2/(u - 1) + 4/(u - 1)**2)/(1 - u) - 3*u**2/(2*(1 - u)) + 6*u**2/((1 - u)*(u - 1)) - u*x**3/(1 - u) + 3*u*x**2/(1 - u) - 6*u*x**2/((1 - u)*(u - 1)) + 3*u*x*y**2/(1 - u) - 6*u*x*(2/(u - 1) + 4/(u - 1)**2)/(1 - u) - 3*u*x/(1 - u) + 12*u*x/((1 - u)*(u - 1)) - 3*u*y**2/(1 - u) + 6*u*y**2/((1 - u)*(u - 1)) + 6*u*(2/(u - 1) + 4/(u - 1)**2)/(1 - u) - 6*u*(4/(3*(u - 1)) + 8/(u - 1)**2 + 8/(u - 1)**3)/(1 - u) + u/(1 - u) - 6*u/((1 - u)*(u - 1)) + x**3/(1 - u) - 3*x**2/(2*(1 - u)) + 6*x**2/((1 - u)*(u - 1)) - 3*x*y**2/(1 - u) + 6*x*(2/(u - 1) + 4/(u - 1)**2)/(1 - u) + x/(1 - u) - 6*x/((1 - u)*(u - 1)) + 3*y**2/(2*(1 - u)) - 6*y**2/((1 - u)*(u - 1)) - 3*(2/(u - 1) + 4/(u - 1)**2)/(1 - u) + 6*(4/(3*(u - 1)) + 8/(u - 1)**2 + 8/(u - 1)**3)/(1 - u) - 1/(4*(1 - u)) + 2/((1 - u)*(u - 1)) + 6*(1 - u)**3/4**k + 6*x*(1 - u)**2/3**k + 6*(1 - u)**2*(3*u**2/(2*(u - 1)) - 3*u/(u - 1) + 3/(2*(u - 1)))/3**k + 12*(1 - u)**2/(3**k*(u - 1)) + 3*x**2*(1 - u)/2**k + 6*x*(1 - u)*(u**2/(u - 1) - 2*u/(u - 1) + 1/(u - 1))/2**k + 12*x*(1 - u)/(2**k*(u - 1)) - 3*y**2*(1 - u)/2**k + 6*(1 - u)*(2/(u - 1) + 4/(u - 1)**2)/2**k + 6*(1 - u)*(u**3/(3*(u - 1)) - u**2/(u - 1) + u/(u - 1) + (u**2/(2*(u - 1)) - u/(u - 1) + 1/(2*(u - 1)))**2 - 1/(3*(u - 1)))/2**k + 12*(1 - u)*(u**2/(u - 1) - 2*u/(u - 1) + 1/(u - 1))/(2**k*(u - 1))\n",
      "I_(n,1)^((k))(x, u): -u**5/(5*(1 - u)) - u**4*x/(1 - u) + u**4/(1 - u) - 2*u**4/((1 - u)*(u - 1)) - 2*u**3*x**2/(1 - u) + 4*u**3*x/(1 - u) - 8*u**3*x/((1 - u)*(u - 1)) + 2*u**3*y**2/(1 - u) - 4*u**3*(2/(u - 1) + 4/(u - 1)**2)/(1 - u) - 2*u**3/(1 - u) + 8*u**3/((1 - u)*(u - 1)) - 2*u**2*x**3/(1 - u) + 6*u**2*x**2/(1 - u) - 12*u**2*x**2/((1 - u)*(u - 1)) + 6*u**2*x*y**2/(1 - u) - 12*u**2*x*(2/(u - 1) + 4/(u - 1)**2)/(1 - u) - 6*u**2*x/(1 - u) + 24*u**2*x/((1 - u)*(u - 1)) - 6*u**2*y**2/(1 - u) + 12*u**2*y**2/((1 - u)*(u - 1)) + 12*u**2*(2/(u - 1) + 4/(u - 1)**2)/(1 - u) - 12*u**2*(4/(3*(u - 1)) + 8/(u - 1)**2 + 8/(u - 1)**3)/(1 - u) + 2*u**2/(1 - u) - 12*u**2/((1 - u)*(u - 1)) - u*x**4/(1 - u) + 4*u*x**3/(1 - u) - 8*u*x**3/((1 - u)*(u - 1)) + 6*u*x**2*y**2/(1 - u) - 12*u*x**2*(2/(u - 1) + 4/(u - 1)**2)/(1 - u) - 6*u*x**2/(1 - u) + 24*u*x**2/((1 - u)*(u - 1)) - 12*u*x*y**2/(1 - u) + 24*u*x*y**2/((1 - u)*(u - 1)) + 24*u*x*(2/(u - 1) + 4/(u - 1)**2)/(1 - u) - 24*u*x*(4/(3*(u - 1)) + 8/(u - 1)**2 + 8/(u - 1)**3)/(1 - u) + 4*u*x/(1 - u) - 24*u*x/((1 - u)*(u - 1)) - u*y**4/(1 - u) + 12*u*y**2*(2/(u - 1) + 4/(u - 1)**2)/(1 - u) + 6*u*y**2/(1 - u) - 24*u*y**2/((1 - u)*(u - 1)) - 12*u*(2/(u - 1) + 4/(u - 1)**2)/(1 - u) + 24*u*(4/(3*(u - 1)) + 8/(u - 1)**2 + 8/(u - 1)**3)/(1 - u) - 24*u*(2/(3*(u - 1)) + 28/(3*(u - 1)**2) + 24/(u - 1)**3 + 16/(u - 1)**4)/(1 - u) - u/(1 - u) + 8*u/((1 - u)*(u - 1)) + x**4/(1 - u) - 2*x**3/(1 - u) + 8*x**3/((1 - u)*(u - 1)) - 6*x**2*y**2/(1 - u) + 12*x**2*(2/(u - 1) + 4/(u - 1)**2)/(1 - u) + 2*x**2/(1 - u) - 12*x**2/((1 - u)*(u - 1)) + 6*x*y**2/(1 - u) - 24*x*y**2/((1 - u)*(u - 1)) - 12*x*(2/(u - 1) + 4/(u - 1)**2)/(1 - u) + 24*x*(4/(3*(u - 1)) + 8/(u - 1)**2 + 8/(u - 1)**3)/(1 - u) - x/(1 - u) + 8*x/((1 - u)*(u - 1)) + y**4/(1 - u) - 12*y**2*(2/(u - 1) + 4/(u - 1)**2)/(1 - u) - 2*y**2/(1 - u) + 12*y**2/((1 - u)*(u - 1)) + 4*(2/(u - 1) + 4/(u - 1)**2)/(1 - u) - 12*(4/(3*(u - 1)) + 8/(u - 1)**2 + 8/(u - 1)**3)/(1 - u) + 24*(2/(3*(u - 1)) + 28/(3*(u - 1)**2) + 24/(u - 1)**3 + 16/(u - 1)**4)/(1 - u) + 1/(5*(1 - u)) - 2/((1 - u)*(u - 1)) + 24*(1 - u)**4/5**k + 24*x*(1 - u)**3/4**k + 24*(1 - u)**3*(2*u**2/(u - 1) - 4*u/(u - 1) + 2/(u - 1))/4**k + 48*(1 - u)**3/(4**k*(u - 1)) + 12*x**2*(1 - u)**2/3**k + 24*x*(1 - u)**2*(3*u**2/(2*(u - 1)) - 3*u/(u - 1) + 3/(2*(u - 1)))/3**k + 48*x*(1 - u)**2/(3**k*(u - 1)) - 12*y**2*(1 - u)**2/3**k + 24*(1 - u)**2*(2/(u - 1) + 4/(u - 1)**2)/3**k + 24*(1 - u)**2*(u**3/(2*(u - 1)) - 3*u**2/(2*(u - 1)) + 3*u/(2*(u - 1)) + 3*(u**2/(2*(u - 1)) - u/(u - 1) + 1/(2*(u - 1)))**2 - 1/(2*(u - 1)))/3**k + 48*(1 - u)**2*(3*u**2/(2*(u - 1)) - 3*u/(u - 1) + 3/(2*(u - 1)))/(3**k*(u - 1)) + 4*x**3*(1 - u)/2**k + 12*x**2*(1 - u)*(u**2/(u - 1) - 2*u/(u - 1) + 1/(u - 1))/2**k + 24*x**2*(1 - u)/(2**k*(u - 1)) - 12*x*y**2*(1 - u)/2**k + 24*x*(1 - u)*(2/(u - 1) + 4/(u - 1)**2)/2**k + 24*x*(1 - u)*(u**3/(3*(u - 1)) - u**2/(u - 1) + u/(u - 1) + (u**2/(2*(u - 1)) - u/(u - 1) + 1/(2*(u - 1)))**2 - 1/(3*(u - 1)))/2**k + 48*x*(1 - u)*(u**2/(u - 1) - 2*u/(u - 1) + 1/(u - 1))/(2**k*(u - 1)) - 12*y**2*(1 - u)*(u**2/(u - 1) - 2*u/(u - 1) + 1/(u - 1))/2**k - 24*y**2*(1 - u)/(2**k*(u - 1)) + 24*(1 - u)*(2/(u - 1) + 4/(u - 1)**2)*(u**2/(u - 1) - 2*u/(u - 1) + 1/(u - 1))/2**k + 24*(1 - u)*(4/(3*(u - 1)) + 8/(u - 1)**2 + 8/(u - 1)**3)/2**k + 24*(1 - u)*(u**4/(12*(u - 1)) - u**3/(3*(u - 1)) + u**2/(2*(u - 1)) - u/(3*(u - 1)) + 2*(u**2/(2*(u - 1)) - u/(u - 1) + 1/(2*(u - 1)))*(u**3/(6*(u - 1)) - u**2/(2*(u - 1)) + u/(2*(u - 1)) - 1/(6*(u - 1))) + 1/(12*(u - 1)))/2**k + 48*(1 - u)*(u**3/(3*(u - 1)) - u**2/(u - 1) + u/(u - 1) + (u**2/(2*(u - 1)) - u/(u - 1) + 1/(2*(u - 1)))**2 - 1/(3*(u - 1)))/(2**k*(u - 1))\n"
     ]
    }
   ],
   "source": [
    "import sympy as sp\n",
    "\n",
    "# Define symbols\n",
    "x, y, t, u, k = sp.symbols('x y t u k')\n",
    "\n",
    "# Define the polylogarithmic function l_i_k(x)\n",
    "def l_i_k(x, y, k, n_terms=10):\n",
    "    return sum((x**n) / (n**k) for n in range(1, n_terms + 1))\n",
    "\n",
    "# Define the generating function for Type I Frobenius-type poly-tangent polynomials\n",
    "numerator = l_i_k(1 - sp.exp(-(1 - u) * t), y, k) * sp.exp(x * t)*sp.cos(y*t)\n",
    "denominator = t * (sp.exp(2 * t) - u)\n",
    "generating_function = numerator / denominator\n",
    "\n",
    "# Number of terms to compute\n",
    "n_terms = 5\n",
    "\n",
    "# List to store the Type I Frobenius-type poly-tangent polynomials\n",
    "Frobenius_poly_tangent_polynomials = []\n",
    "\n",
    "# Compute the first few Type I Frobenius-type poly-tangent polynomials\n",
    "for n in range(n_terms):\n",
    "    # Expand the generating function in a Taylor series around t = 0 up to order n + 1\n",
    "    series_expansion = sp.series(generating_function, t, 0, n + 1)\n",
    "    \n",
    "    # Extract the coefficient of t^n and multiply by n! to get the polynomial\n",
    "    coefficient = series_expansion.coeff(t, n)\n",
    "    I_n = sp.factorial(n) * coefficient  # multiply by n! to get I_n(x, u)\n",
    "    \n",
    "    # Store the polynomial\n",
    "    Frobenius_poly_tangent_polynomials.append(I_n)\n",
    "\n",
    "# Print the first few Type I Frobenius-type poly-tangent polynomials\n",
    "for n, poly in enumerate(Frobenius_poly_tangent_polynomials):\n",
    "    print(f\"I_(n,1)^((k))(x, u): {poly}\")"
   ]
  },
  {
   "cell_type": "code",
   "execution_count": null,
   "id": "68e4abef-1cf5-4adb-b644-363bb2a4ab90",
   "metadata": {},
   "outputs": [],
   "source": [
    "type 1 sine"
   ]
  },
  {
   "cell_type": "code",
   "execution_count": 5,
   "id": "c11b1a66-f65b-4934-9b27-9567251f5b0c",
   "metadata": {},
   "outputs": [
    {
     "name": "stdout",
     "output_type": "stream",
     "text": [
      "I_(n,1)^((k))(x, u): 0\n",
      "I_(n,1)^((k))(x, u): -u*y/(1 - u) + y/(1 - u)\n",
      "I_(n,1)^((k))(x, u): -u**2*y/(1 - u) - 2*u*x*y/(1 - u) + 2*u*y/(1 - u) - 4*u*y/((1 - u)*(u - 1)) + 2*x*y/(1 - u) - y/(1 - u) + 4*y/((1 - u)*(u - 1)) + 2*y*(1 - u)/2**k\n",
      "I_(n,1)^((k))(x, u): -u**3*y/(1 - u) - 3*u**2*x*y/(1 - u) + 3*u**2*y/(1 - u) - 6*u**2*y/((1 - u)*(u - 1)) - 3*u*x**2*y/(1 - u) + 6*u*x*y/(1 - u) - 12*u*x*y/((1 - u)*(u - 1)) + u*y**3/(1 - u) - 6*u*y*(2/(u - 1) + 4/(u - 1)**2)/(1 - u) - 3*u*y/(1 - u) + 12*u*y/((1 - u)*(u - 1)) + 3*x**2*y/(1 - u) - 3*x*y/(1 - u) + 12*x*y/((1 - u)*(u - 1)) - y**3/(1 - u) + 6*y*(2/(u - 1) + 4/(u - 1)**2)/(1 - u) + y/(1 - u) - 6*y/((1 - u)*(u - 1)) + 6*y*(1 - u)**2/3**k + 6*x*y*(1 - u)/2**k + 6*y*(1 - u)*(u**2/(u - 1) - 2*u/(u - 1) + 1/(u - 1))/2**k + 12*y*(1 - u)/(2**k*(u - 1))\n",
      "I_(n,1)^((k))(x, u): -u**4*y/(1 - u) - 4*u**3*x*y/(1 - u) + 4*u**3*y/(1 - u) - 8*u**3*y/((1 - u)*(u - 1)) - 6*u**2*x**2*y/(1 - u) + 12*u**2*x*y/(1 - u) - 24*u**2*x*y/((1 - u)*(u - 1)) + 2*u**2*y**3/(1 - u) - 12*u**2*y*(2/(u - 1) + 4/(u - 1)**2)/(1 - u) - 6*u**2*y/(1 - u) + 24*u**2*y/((1 - u)*(u - 1)) - 4*u*x**3*y/(1 - u) + 12*u*x**2*y/(1 - u) - 24*u*x**2*y/((1 - u)*(u - 1)) + 4*u*x*y**3/(1 - u) - 24*u*x*y*(2/(u - 1) + 4/(u - 1)**2)/(1 - u) - 12*u*x*y/(1 - u) + 48*u*x*y/((1 - u)*(u - 1)) - 4*u*y**3/(1 - u) + 8*u*y**3/((1 - u)*(u - 1)) + 24*u*y*(2/(u - 1) + 4/(u - 1)**2)/(1 - u) - 24*u*y*(4/(3*(u - 1)) + 8/(u - 1)**2 + 8/(u - 1)**3)/(1 - u) + 4*u*y/(1 - u) - 24*u*y/((1 - u)*(u - 1)) + 4*x**3*y/(1 - u) - 6*x**2*y/(1 - u) + 24*x**2*y/((1 - u)*(u - 1)) - 4*x*y**3/(1 - u) + 24*x*y*(2/(u - 1) + 4/(u - 1)**2)/(1 - u) + 4*x*y/(1 - u) - 24*x*y/((1 - u)*(u - 1)) + 2*y**3/(1 - u) - 8*y**3/((1 - u)*(u - 1)) - 12*y*(2/(u - 1) + 4/(u - 1)**2)/(1 - u) + 24*y*(4/(3*(u - 1)) + 8/(u - 1)**2 + 8/(u - 1)**3)/(1 - u) - y/(1 - u) + 8*y/((1 - u)*(u - 1)) + 24*y*(1 - u)**3/4**k + 24*x*y*(1 - u)**2/3**k + 24*y*(1 - u)**2*(3*u**2/(2*(u - 1)) - 3*u/(u - 1) + 3/(2*(u - 1)))/3**k + 48*y*(1 - u)**2/(3**k*(u - 1)) + 12*x**2*y*(1 - u)/2**k + 24*x*y*(1 - u)*(u**2/(u - 1) - 2*u/(u - 1) + 1/(u - 1))/2**k + 48*x*y*(1 - u)/(2**k*(u - 1)) - 4*y**3*(1 - u)/2**k + 24*y*(1 - u)*(2/(u - 1) + 4/(u - 1)**2)/2**k + 24*y*(1 - u)*(u**3/(3*(u - 1)) - u**2/(u - 1) + u/(u - 1) + (u**2/(2*(u - 1)) - u/(u - 1) + 1/(2*(u - 1)))**2 - 1/(3*(u - 1)))/2**k + 48*y*(1 - u)*(u**2/(u - 1) - 2*u/(u - 1) + 1/(u - 1))/(2**k*(u - 1))\n"
     ]
    }
   ],
   "source": [
    "import sympy as sp\n",
    "\n",
    "# Define symbols\n",
    "x, y, t, u, k = sp.symbols('x y t u k')\n",
    "\n",
    "# Define the polylogarithmic function l_i_k(x)\n",
    "def l_i_k(x, y, k, n_terms=10):\n",
    "    return sum((x**n) / (n**k) for n in range(1, n_terms + 1))\n",
    "\n",
    "# Define the generating function for Type I Frobenius-type poly-tangent polynomials\n",
    "numerator = l_i_k(1 - sp.exp(-(1 - u) * t), y, k) * sp.exp(x * t)*sp.sin(y*t)\n",
    "denominator = t * (sp.exp(2 * t) - u)\n",
    "generating_function = numerator / denominator\n",
    "\n",
    "# Number of terms to compute\n",
    "n_terms = 5\n",
    "\n",
    "# List to store the Type I Frobenius-type poly-tangent polynomials\n",
    "Frobenius_poly_tangent_polynomials = []\n",
    "\n",
    "# Compute the first few Type I Frobenius-type poly-tangent polynomials\n",
    "for n in range(n_terms):\n",
    "    # Expand the generating function in a Taylor series around t = 0 up to order n + 1\n",
    "    series_expansion = sp.series(generating_function, t, 0, n + 1)\n",
    "    \n",
    "    # Extract the coefficient of t^n and multiply by n! to get the polynomial\n",
    "    coefficient = series_expansion.coeff(t, n)\n",
    "    I_n = sp.factorial(n) * coefficient  # multiply by n! to get I_n(x, u)\n",
    "    \n",
    "    # Store the polynomial\n",
    "    Frobenius_poly_tangent_polynomials.append(I_n)\n",
    "\n",
    "# Print the first few Type I Frobenius-type poly-tangent polynomials\n",
    "for n, poly in enumerate(Frobenius_poly_tangent_polynomials):\n",
    "    print(f\"I_(n,1)^((k))(x, u): {poly}\")"
   ]
  },
  {
   "cell_type": "code",
   "execution_count": null,
   "id": "c2592143-4647-4589-b4c9-995c1fd018fa",
   "metadata": {},
   "outputs": [],
   "source": [
    "type 2"
   ]
  },
  {
   "cell_type": "code",
   "execution_count": 7,
   "id": "4f8ce445-d183-4097-89d5-7e9e657db66b",
   "metadata": {},
   "outputs": [
    {
     "name": "stdout",
     "output_type": "stream",
     "text": [
      "T_0^k(x, u): 1\n",
      "T_1^k(x, u): u/2 + x - 1/2 + 2/(u - 1) + (1 - u)/2**k\n",
      "T_2^k(x, u): x**2 - x*(1 - u) + 4*x/(u - 1) + 2*(1 - u)**2/3 - 2*(1 - u)/(u - 1) + 4/(u - 1) + 8/(u - 1)**2 + (1 - u)**2/3**k + 2*x*(1 - u)*(-2*u/(u - 1) + 3 + 2/(u - 1))/2**k + 2*(1 - u)**3/(2**k*(u - 1)) + 4*(1 - u)*(-2*u/(u - 1) + 3 + 2/(u - 1))/(2**k*(u - 1))\n",
      "T_3^k(x, u): x**3 - 3*x**2*(1 - u)/2 + 6*x**2/(u - 1) + 2*x*(1 - u)**2 - 6*x*(1 - u)/(u - 1) + 6*x*(2/(u - 1) + 4/(u - 1)**2) - 3*(1 - u)**3/2 + 4*(1 - u)**2/(u - 1) - 3*(1 - u)*(2/(u - 1) + 4/(u - 1)**2) + 8/(u - 1) + 48/(u - 1)**2 + 48/(u - 1)**3 + (1 - u)**3/4**k + 3*x*(1 - u)**2*(-3*u/(u - 1) + 4 + 3/(u - 1))/3**k + 9*(1 - u)**4/(2*3**k*(u - 1)) + 6*(1 - u)**2*(-3*u/(u - 1) + 4 + 3/(u - 1))/(3**k*(u - 1)) + 3*x**2*(1 - u)*(-2*u/(u - 1) + (-u/(u - 1) + 1 + 1/(u - 1))**2 + 3 + 2/(u - 1))/2**k + 6*x*(1 - u)*((1 - u)**2*(-u/(u - 1) + 1 + 1/(u - 1))/(u - 1) + (1 - u)**2/(u - 1))/2**k + 12*x*(1 - u)*(-2*u/(u - 1) + (-u/(u - 1) + 1 + 1/(u - 1))**2 + 3 + 2/(u - 1))/(2**k*(u - 1)) + 6*(1 - u)*(2/(u - 1) + 4/(u - 1)**2)*(-2*u/(u - 1) + (-u/(u - 1) + 1 + 1/(u - 1))**2 + 3 + 2/(u - 1))/2**k + 6*(1 - u)*((1 - u)**4/(4*(u - 1)**2) - 2*(1 - u)**3*(-u/(u - 1) + 1 + 1/(u - 1))/(3*(u - 1)) - 2*(1 - u)**3/(3*(u - 1)))/2**k + 12*(1 - u)*((1 - u)**2*(-u/(u - 1) + 1 + 1/(u - 1))/(u - 1) + (1 - u)**2/(u - 1))/(2**k*(u - 1))\n",
      "T_4^k(x, u): x**4 - 2*x**3*(1 - u) + 8*x**3/(u - 1) + 4*x**2*(1 - u)**2 - 12*x**2*(1 - u)/(u - 1) + 12*x**2*(2/(u - 1) + 4/(u - 1)**2) - 6*x*(1 - u)**3 + 16*x*(1 - u)**2/(u - 1) - 12*x*(1 - u)*(2/(u - 1) + 4/(u - 1)**2) + 24*x*(4/(3*(u - 1)) + 8/(u - 1)**2 + 8/(u - 1)**3) + 24*(1 - u)**4/5 - 12*(1 - u)**3/(u - 1) + 8*(1 - u)**2*(2/(u - 1) + 4/(u - 1)**2) - 12*(1 - u)*(4/(3*(u - 1)) + 8/(u - 1)**2 + 8/(u - 1)**3) + 16/(u - 1) + 224/(u - 1)**2 + 576/(u - 1)**3 + 384/(u - 1)**4 + (1 - u)**4/5**k + 4*x*(1 - u)**3*(-4*u/(u - 1) + 5 + 4/(u - 1))/4**k + 8*(1 - u)**5/(4**k*(u - 1)) + 8*(1 - u)**3*(-4*u/(u - 1) + 5 + 4/(u - 1))/(4**k*(u - 1)) + 6*x**2*(1 - u)**2*(-3*u/(u - 1) + 3*(-u/(u - 1) + 1 + 1/(u - 1))**2 + 4 + 3/(u - 1))/3**k + 12*x*(1 - u)**2*(3*(1 - u)**2*(-u/(u - 1) + 1 + 1/(u - 1))/(u - 1) + 3*(1 - u)**2/(2*(u - 1)))/3**k + 24*x*(1 - u)**2*(-3*u/(u - 1) + 3*(-u/(u - 1) + 1 + 1/(u - 1))**2 + 4 + 3/(u - 1))/(3**k*(u - 1)) + 12*(1 - u)**2*(2/(u - 1) + 4/(u - 1)**2)*(-3*u/(u - 1) + 3*(-u/(u - 1) + 1 + 1/(u - 1))**2 + 4 + 3/(u - 1))/3**k + 12*(1 - u)**2*(3*(1 - u)**4/(4*(u - 1)**2) - 2*(1 - u)**3*(-u/(u - 1) + 1 + 1/(u - 1))/(u - 1) - (1 - u)**3/(u - 1))/3**k + 24*(1 - u)**2*(3*(1 - u)**2*(-u/(u - 1) + 1 + 1/(u - 1))/(u - 1) + 3*(1 - u)**2/(2*(u - 1)))/(3**k*(u - 1)) + 4*x**3*(1 - u)*(-2*u/(u - 1) + (-u/(u - 1) + 1 + 1/(u - 1))**2 + 3 + 2/(u - 1))/2**k + 12*x**2*(1 - u)*((1 - u)**2*(-u/(u - 1) + 1 + 1/(u - 1))/(u - 1) + (1 - u)**2/(u - 1))/2**k + 24*x**2*(1 - u)*(-2*u/(u - 1) + (-u/(u - 1) + 1 + 1/(u - 1))**2 + 3 + 2/(u - 1))/(2**k*(u - 1)) + 24*x*(1 - u)*(2/(u - 1) + 4/(u - 1)**2)*(-2*u/(u - 1) + (-u/(u - 1) + 1 + 1/(u - 1))**2 + 3 + 2/(u - 1))/2**k + 24*x*(1 - u)*((1 - u)**4/(4*(u - 1)**2) - 2*(1 - u)**3*(-u/(u - 1) + 1 + 1/(u - 1))/(3*(u - 1)) - 2*(1 - u)**3/(3*(u - 1)))/2**k + 48*x*(1 - u)*((1 - u)**2*(-u/(u - 1) + 1 + 1/(u - 1))/(u - 1) + (1 - u)**2/(u - 1))/(2**k*(u - 1)) + 24*(1 - u)*((1 - u)**2*(-u/(u - 1) + 1 + 1/(u - 1))/(u - 1) + (1 - u)**2/(u - 1))*(2/(u - 1) + 4/(u - 1)**2)/2**k + 24*(1 - u)*(-(1 - u)**5/(3*(u - 1)**2) + (1 - u)**4*(-u/(u - 1) + 1 + 1/(u - 1))/(2*(u - 1)) + (1 - u)**4/(2*(u - 1)))/2**k + 24*(1 - u)*(4/(3*(u - 1)) + 8/(u - 1)**2 + 8/(u - 1)**3)*(-2*u/(u - 1) + (-u/(u - 1) + 1 + 1/(u - 1))**2 + 3 + 2/(u - 1))/2**k + 48*(1 - u)*((1 - u)**4/(4*(u - 1)**2) - 2*(1 - u)**3*(-u/(u - 1) + 1 + 1/(u - 1))/(3*(u - 1)) - 2*(1 - u)**3/(3*(u - 1)))/(2**k*(u - 1))\n"
     ]
    }
   ],
   "source": [
    "import sympy as sp\n",
    "\n",
    "# Define symbols\n",
    "x, t, u, k = sp.symbols('x t u k')\n",
    "\n",
    "# Define the polyexponential function Ei_k(x)\n",
    "def Ei_k(x, k, n_terms=10):\n",
    "    return sum((x**n) / (n**k * sp.factorial(n-1)) for n in range(1, n_terms + 1))\n",
    "\n",
    "# Define the generating function for Type 2 Frobenius-type poly-tangent polynomials\n",
    "numerator = Ei_k(sp.log(1 + (1 - u) * t), k) * sp.exp(x * t)\n",
    "denominator = t * (sp.exp(2 * t) - u)\n",
    "generating_function = numerator / denominator\n",
    "\n",
    "# Number of terms to compute\n",
    "n_terms = 5\n",
    "\n",
    "# List to store the Type 2 Frobenius-type poly-tangent polynomials\n",
    "Frobenius_poly_tangent_polynomials = []\n",
    "\n",
    "# Compute the first few Type 2 Frobenius-type poly-tangent polynomials\n",
    "for n in range(n_terms):\n",
    "    # Expand the generating function in a Taylor series around t = 0 up to order n + 1\n",
    "    series_expansion = sp.series(generating_function, t, 0, n + 1)\n",
    "    \n",
    "    # Extract the coefficient of t^n and multiply by n! to get the polynomial\n",
    "    coefficient = series_expansion.coeff(t, n)\n",
    "    T_n = sp.factorial(n) * coefficient  # multiply by n! to get T_n(x, u)\n",
    "    \n",
    "    # Store the polynomial\n",
    "    Frobenius_poly_tangent_polynomials.append(T_n)\n",
    "\n",
    "# Print the first few Type 2 Frobenius-type poly-tangent polynomials\n",
    "for n, poly in enumerate(Frobenius_poly_tangent_polynomials):\n",
    "    print(f\"T_{n}^{(k)}(x, u): {poly}\")"
   ]
  },
  {
   "cell_type": "code",
   "execution_count": null,
   "id": "38e42a0a-2167-4d67-992a-cb564961a70c",
   "metadata": {},
   "outputs": [],
   "source": [
    "type 2 numbers"
   ]
  },
  {
   "cell_type": "code",
   "execution_count": 8,
   "id": "81113fc4-9ac3-4a15-84c6-b56885440c2e",
   "metadata": {},
   "outputs": [
    {
     "name": "stdout",
     "output_type": "stream",
     "text": [
      "T_0^k(x, u): 1\n",
      "T_1^k(x, u): u/2 - 1/2 + 2/(u - 1) + (1 - u)/2**k\n",
      "T_2^k(x, u): 2*(1 - u)**2/3 - 2*(1 - u)/(u - 1) + 4/(u - 1) + 8/(u - 1)**2 + (1 - u)**2/3**k + 2*(1 - u)**3/(2**k*(u - 1)) + 4*(1 - u)*(-2*u/(u - 1) + 3 + 2/(u - 1))/(2**k*(u - 1))\n",
      "T_3^k(x, u): -3*(1 - u)**3/2 + 4*(1 - u)**2/(u - 1) - 3*(1 - u)*(2/(u - 1) + 4/(u - 1)**2) + 8/(u - 1) + 48/(u - 1)**2 + 48/(u - 1)**3 + (1 - u)**3/4**k + 9*(1 - u)**4/(2*3**k*(u - 1)) + 6*(1 - u)**2*(-3*u/(u - 1) + 4 + 3/(u - 1))/(3**k*(u - 1)) + 6*(1 - u)*(2/(u - 1) + 4/(u - 1)**2)*(-2*u/(u - 1) + (-u/(u - 1) + 1 + 1/(u - 1))**2 + 3 + 2/(u - 1))/2**k + 6*(1 - u)*((1 - u)**4/(4*(u - 1)**2) - 2*(1 - u)**3*(-u/(u - 1) + 1 + 1/(u - 1))/(3*(u - 1)) - 2*(1 - u)**3/(3*(u - 1)))/2**k + 12*(1 - u)*((1 - u)**2*(-u/(u - 1) + 1 + 1/(u - 1))/(u - 1) + (1 - u)**2/(u - 1))/(2**k*(u - 1))\n",
      "T_4^k(x, u): 24*(1 - u)**4/5 - 12*(1 - u)**3/(u - 1) + 8*(1 - u)**2*(2/(u - 1) + 4/(u - 1)**2) - 12*(1 - u)*(4/(3*(u - 1)) + 8/(u - 1)**2 + 8/(u - 1)**3) + 16/(u - 1) + 224/(u - 1)**2 + 576/(u - 1)**3 + 384/(u - 1)**4 + (1 - u)**4/5**k + 8*(1 - u)**5/(4**k*(u - 1)) + 8*(1 - u)**3*(-4*u/(u - 1) + 5 + 4/(u - 1))/(4**k*(u - 1)) + 12*(1 - u)**2*(2/(u - 1) + 4/(u - 1)**2)*(-3*u/(u - 1) + 3*(-u/(u - 1) + 1 + 1/(u - 1))**2 + 4 + 3/(u - 1))/3**k + 12*(1 - u)**2*(3*(1 - u)**4/(4*(u - 1)**2) - 2*(1 - u)**3*(-u/(u - 1) + 1 + 1/(u - 1))/(u - 1) - (1 - u)**3/(u - 1))/3**k + 24*(1 - u)**2*(3*(1 - u)**2*(-u/(u - 1) + 1 + 1/(u - 1))/(u - 1) + 3*(1 - u)**2/(2*(u - 1)))/(3**k*(u - 1)) + 24*(1 - u)*((1 - u)**2*(-u/(u - 1) + 1 + 1/(u - 1))/(u - 1) + (1 - u)**2/(u - 1))*(2/(u - 1) + 4/(u - 1)**2)/2**k + 24*(1 - u)*(-(1 - u)**5/(3*(u - 1)**2) + (1 - u)**4*(-u/(u - 1) + 1 + 1/(u - 1))/(2*(u - 1)) + (1 - u)**4/(2*(u - 1)))/2**k + 24*(1 - u)*(4/(3*(u - 1)) + 8/(u - 1)**2 + 8/(u - 1)**3)*(-2*u/(u - 1) + (-u/(u - 1) + 1 + 1/(u - 1))**2 + 3 + 2/(u - 1))/2**k + 48*(1 - u)*((1 - u)**4/(4*(u - 1)**2) - 2*(1 - u)**3*(-u/(u - 1) + 1 + 1/(u - 1))/(3*(u - 1)) - 2*(1 - u)**3/(3*(u - 1)))/(2**k*(u - 1))\n"
     ]
    }
   ],
   "source": [
    "import sympy as sp\n",
    "\n",
    "# Define symbols\n",
    "x, t, u, k = sp.symbols('x t u k')\n",
    "\n",
    "# Define the polyexponential function Ei_k(x)\n",
    "def Ei_k(x, k, n_terms=10):\n",
    "    return sum((x**n) / (n**k * sp.factorial(n-1)) for n in range(1, n_terms + 1))\n",
    "\n",
    "# Define the generating function for Type 2 Frobenius-type poly-tangent polynomials\n",
    "numerator = Ei_k(sp.log(1 + (1 - u) * t), k)\n",
    "denominator = t * (sp.exp(2 * t) - u)\n",
    "generating_function = numerator / denominator\n",
    "\n",
    "# Number of terms to compute\n",
    "n_terms = 5\n",
    "\n",
    "# List to store the Type 2 Frobenius-type poly-tangent polynomials\n",
    "Frobenius_poly_tangent_polynomials = []\n",
    "\n",
    "# Compute the first few Type 2 Frobenius-type poly-tangent polynomials\n",
    "for n in range(n_terms):\n",
    "    # Expand the generating function in a Taylor series around t = 0 up to order n + 1\n",
    "    series_expansion = sp.series(generating_function, t, 0, n + 1)\n",
    "    \n",
    "    # Extract the coefficient of t^n and multiply by n! to get the polynomial\n",
    "    coefficient = series_expansion.coeff(t, n)\n",
    "    T_n = sp.factorial(n) * coefficient  # multiply by n! to get T_n(x, u)\n",
    "    \n",
    "    # Store the polynomial\n",
    "    Frobenius_poly_tangent_polynomials.append(T_n)\n",
    "\n",
    "# Print the first few Type 2 Frobenius-type poly-tangent polynomials\n",
    "for n, poly in enumerate(Frobenius_poly_tangent_polynomials):\n",
    "    print(f\"T_{n}^{(k)}(x, u): {poly}\")"
   ]
  },
  {
   "cell_type": "code",
   "execution_count": null,
   "id": "e74f38e3-8a76-4dfd-ad00-c558d4606846",
   "metadata": {},
   "outputs": [],
   "source": [
    "type 2 cosine"
   ]
  },
  {
   "cell_type": "code",
   "execution_count": 10,
   "id": "b3202d82-5f14-4226-82f6-29470dbc587d",
   "metadata": {},
   "outputs": [
    {
     "name": "stdout",
     "output_type": "stream",
     "text": [
      "T_0^k(x, u): 1\n",
      "T_1^k(x, u): u/2 + x - 1/2 + 2/(u - 1) + (1 - u)/2**k\n",
      "T_2^k(x, u): x**2 - x*(1 - u) + 4*x/(u - 1) - y**2 + 2*(1 - u)**2/3 - 2*(1 - u)/(u - 1) + 4/(u - 1) + 8/(u - 1)**2 + (1 - u)**2/3**k + 2*x*(1 - u)*(-2*u/(u - 1) + 3 + 2/(u - 1))/2**k + 2*(1 - u)**3/(2**k*(u - 1)) + 4*(1 - u)*(-2*u/(u - 1) + 3 + 2/(u - 1))/(2**k*(u - 1))\n",
      "T_3^k(x, u): x**3 - 3*x**2*(1 - u)/2 + 6*x**2/(u - 1) - 3*x*y**2 + 2*x*(1 - u)**2 - 6*x*(1 - u)/(u - 1) + 6*x*(2/(u - 1) + 4/(u - 1)**2) + 3*y**2*(1 - u)/2 - 6*y**2/(u - 1) - 3*(1 - u)**3/2 + 4*(1 - u)**2/(u - 1) - 3*(1 - u)*(2/(u - 1) + 4/(u - 1)**2) + 8/(u - 1) + 48/(u - 1)**2 + 48/(u - 1)**3 + (1 - u)**3/4**k + 3*x*(1 - u)**2*(-3*u/(u - 1) + 4 + 3/(u - 1))/3**k + 9*(1 - u)**4/(2*3**k*(u - 1)) + 6*(1 - u)**2*(-3*u/(u - 1) + 4 + 3/(u - 1))/(3**k*(u - 1)) + 3*x**2*(1 - u)*(-2*u/(u - 1) + (-u/(u - 1) + 1 + 1/(u - 1))**2 + 3 + 2/(u - 1))/2**k + 6*x*(1 - u)*((1 - u)**2*(-u/(u - 1) + 1 + 1/(u - 1))/(u - 1) + (1 - u)**2/(u - 1))/2**k + 12*x*(1 - u)*(-2*u/(u - 1) + (-u/(u - 1) + 1 + 1/(u - 1))**2 + 3 + 2/(u - 1))/(2**k*(u - 1)) - 3*y**2*(1 - u)*(-2*u/(u - 1) + (-u/(u - 1) + 1 + 1/(u - 1))**2 + 3 + 2/(u - 1))/2**k + 6*(1 - u)*(2/(u - 1) + 4/(u - 1)**2)*(-2*u/(u - 1) + (-u/(u - 1) + 1 + 1/(u - 1))**2 + 3 + 2/(u - 1))/2**k + 6*(1 - u)*((1 - u)**4/(4*(u - 1)**2) - 2*(1 - u)**3*(-u/(u - 1) + 1 + 1/(u - 1))/(3*(u - 1)) - 2*(1 - u)**3/(3*(u - 1)))/2**k + 12*(1 - u)*((1 - u)**2*(-u/(u - 1) + 1 + 1/(u - 1))/(u - 1) + (1 - u)**2/(u - 1))/(2**k*(u - 1))\n",
      "T_4^k(x, u): x**4 - 2*x**3*(1 - u) + 8*x**3/(u - 1) - 6*x**2*y**2 + 4*x**2*(1 - u)**2 - 12*x**2*(1 - u)/(u - 1) + 12*x**2*(2/(u - 1) + 4/(u - 1)**2) + 6*x*y**2*(1 - u) - 24*x*y**2/(u - 1) - 6*x*(1 - u)**3 + 16*x*(1 - u)**2/(u - 1) - 12*x*(1 - u)*(2/(u - 1) + 4/(u - 1)**2) + 24*x*(4/(3*(u - 1)) + 8/(u - 1)**2 + 8/(u - 1)**3) + y**4 - 4*y**2*(1 - u)**2 + 12*y**2*(1 - u)/(u - 1) - 12*y**2*(2/(u - 1) + 4/(u - 1)**2) + 24*(1 - u)**4/5 - 12*(1 - u)**3/(u - 1) + 8*(1 - u)**2*(2/(u - 1) + 4/(u - 1)**2) - 12*(1 - u)*(4/(3*(u - 1)) + 8/(u - 1)**2 + 8/(u - 1)**3) + 16/(u - 1) + 224/(u - 1)**2 + 576/(u - 1)**3 + 384/(u - 1)**4 + (1 - u)**4/5**k + 4*x*(1 - u)**3*(-4*u/(u - 1) + 5 + 4/(u - 1))/4**k + 8*(1 - u)**5/(4**k*(u - 1)) + 8*(1 - u)**3*(-4*u/(u - 1) + 5 + 4/(u - 1))/(4**k*(u - 1)) + 6*x**2*(1 - u)**2*(-3*u/(u - 1) + 3*(-u/(u - 1) + 1 + 1/(u - 1))**2 + 4 + 3/(u - 1))/3**k + 12*x*(1 - u)**2*(3*(1 - u)**2*(-u/(u - 1) + 1 + 1/(u - 1))/(u - 1) + 3*(1 - u)**2/(2*(u - 1)))/3**k + 24*x*(1 - u)**2*(-3*u/(u - 1) + 3*(-u/(u - 1) + 1 + 1/(u - 1))**2 + 4 + 3/(u - 1))/(3**k*(u - 1)) - 6*y**2*(1 - u)**2*(-3*u/(u - 1) + 3*(-u/(u - 1) + 1 + 1/(u - 1))**2 + 4 + 3/(u - 1))/3**k + 12*(1 - u)**2*(2/(u - 1) + 4/(u - 1)**2)*(-3*u/(u - 1) + 3*(-u/(u - 1) + 1 + 1/(u - 1))**2 + 4 + 3/(u - 1))/3**k + 12*(1 - u)**2*(3*(1 - u)**4/(4*(u - 1)**2) - 2*(1 - u)**3*(-u/(u - 1) + 1 + 1/(u - 1))/(u - 1) - (1 - u)**3/(u - 1))/3**k + 24*(1 - u)**2*(3*(1 - u)**2*(-u/(u - 1) + 1 + 1/(u - 1))/(u - 1) + 3*(1 - u)**2/(2*(u - 1)))/(3**k*(u - 1)) + 4*x**3*(1 - u)*(-2*u/(u - 1) + (-u/(u - 1) + 1 + 1/(u - 1))**2 + 3 + 2/(u - 1))/2**k + 12*x**2*(1 - u)*((1 - u)**2*(-u/(u - 1) + 1 + 1/(u - 1))/(u - 1) + (1 - u)**2/(u - 1))/2**k + 24*x**2*(1 - u)*(-2*u/(u - 1) + (-u/(u - 1) + 1 + 1/(u - 1))**2 + 3 + 2/(u - 1))/(2**k*(u - 1)) - 12*x*y**2*(1 - u)*(-2*u/(u - 1) + (-u/(u - 1) + 1 + 1/(u - 1))**2 + 3 + 2/(u - 1))/2**k + 24*x*(1 - u)*(2/(u - 1) + 4/(u - 1)**2)*(-2*u/(u - 1) + (-u/(u - 1) + 1 + 1/(u - 1))**2 + 3 + 2/(u - 1))/2**k + 24*x*(1 - u)*((1 - u)**4/(4*(u - 1)**2) - 2*(1 - u)**3*(-u/(u - 1) + 1 + 1/(u - 1))/(3*(u - 1)) - 2*(1 - u)**3/(3*(u - 1)))/2**k + 48*x*(1 - u)*((1 - u)**2*(-u/(u - 1) + 1 + 1/(u - 1))/(u - 1) + (1 - u)**2/(u - 1))/(2**k*(u - 1)) - 12*y**2*(1 - u)*((1 - u)**2*(-u/(u - 1) + 1 + 1/(u - 1))/(u - 1) + (1 - u)**2/(u - 1))/2**k - 24*y**2*(1 - u)*(-2*u/(u - 1) + (-u/(u - 1) + 1 + 1/(u - 1))**2 + 3 + 2/(u - 1))/(2**k*(u - 1)) + 24*(1 - u)*((1 - u)**2*(-u/(u - 1) + 1 + 1/(u - 1))/(u - 1) + (1 - u)**2/(u - 1))*(2/(u - 1) + 4/(u - 1)**2)/2**k + 24*(1 - u)*(-(1 - u)**5/(3*(u - 1)**2) + (1 - u)**4*(-u/(u - 1) + 1 + 1/(u - 1))/(2*(u - 1)) + (1 - u)**4/(2*(u - 1)))/2**k + 24*(1 - u)*(4/(3*(u - 1)) + 8/(u - 1)**2 + 8/(u - 1)**3)*(-2*u/(u - 1) + (-u/(u - 1) + 1 + 1/(u - 1))**2 + 3 + 2/(u - 1))/2**k + 48*(1 - u)*((1 - u)**4/(4*(u - 1)**2) - 2*(1 - u)**3*(-u/(u - 1) + 1 + 1/(u - 1))/(3*(u - 1)) - 2*(1 - u)**3/(3*(u - 1)))/(2**k*(u - 1))\n"
     ]
    }
   ],
   "source": [
    "import sympy as sp\n",
    "\n",
    "# Define symbols\n",
    "x, y, t, u, k = sp.symbols('x y t u k')\n",
    "\n",
    "# Define the polyexponential function Ei_k(x)\n",
    "def Ei_k(x, y, k, n_terms=10):\n",
    "    return sum((x**n) / (n**k * sp.factorial(n-1)) for n in range(1, n_terms + 1))\n",
    "\n",
    "# Define the generating function for Type 2 Frobenius-type poly-tangent polynomials\n",
    "numerator = Ei_k(sp.log(1 + (1 - u) * t), y, k) * sp.exp(x * t) * sp.cos(y*t)\n",
    "denominator = t * (sp.exp(2 * t) - u)\n",
    "generating_function = numerator / denominator\n",
    "\n",
    "# Number of terms to compute\n",
    "n_terms = 5\n",
    "\n",
    "# List to store the Type 2 Frobenius-type poly-tangent polynomials\n",
    "Frobenius_poly_tangent_polynomials = []\n",
    "\n",
    "# Compute the first few Type 2 Frobenius-type poly-tangent polynomials\n",
    "for n in range(n_terms):\n",
    "    # Expand the generating function in a Taylor series around t = 0 up to order n + 1\n",
    "    series_expansion = sp.series(generating_function, t, 0, n + 1)\n",
    "    \n",
    "    # Extract the coefficient of t^n and multiply by n! to get the polynomial\n",
    "    coefficient = series_expansion.coeff(t, n)\n",
    "    T_n = sp.factorial(n) * coefficient  # multiply by n! to get T_n(x, u)\n",
    "    \n",
    "    # Store the polynomial\n",
    "    Frobenius_poly_tangent_polynomials.append(T_n)\n",
    "\n",
    "# Print the first few Type 2 Frobenius-type poly-tangent polynomials\n",
    "for n, poly in enumerate(Frobenius_poly_tangent_polynomials):\n",
    "    print(f\"T_{n}^{(k)}(x, u): {poly}\")"
   ]
  },
  {
   "cell_type": "code",
   "execution_count": null,
   "id": "53e98767-0338-4556-968f-4912172f108a",
   "metadata": {},
   "outputs": [],
   "source": [
    "type 1 sine"
   ]
  },
  {
   "cell_type": "code",
   "execution_count": 11,
   "id": "59ec6c35-03e7-474e-b6dd-075bb6b04673",
   "metadata": {},
   "outputs": [
    {
     "name": "stdout",
     "output_type": "stream",
     "text": [
      "T_0^k(x, u): 0\n",
      "T_1^k(x, u): y\n",
      "T_2^k(x, u): 2*x*y - y*(1 - u) + 4*y/(u - 1) + 2*y*(1 - u)/2**k\n",
      "T_3^k(x, u): 3*x**2*y - 3*x*y*(1 - u) + 12*x*y/(u - 1) - y**3 + 2*y*(1 - u)**2 - 6*y*(1 - u)/(u - 1) + 6*y*(2/(u - 1) + 4/(u - 1)**2) + 3*y*(1 - u)**2/3**k + 6*x*y*(1 - u)*(-2*u/(u - 1) + 3 + 2/(u - 1))/2**k + 6*y*(1 - u)**3/(2**k*(u - 1)) + 12*y*(1 - u)*(-2*u/(u - 1) + 3 + 2/(u - 1))/(2**k*(u - 1))\n",
      "T_4^k(x, u): 4*x**3*y - 6*x**2*y*(1 - u) + 24*x**2*y/(u - 1) - 4*x*y**3 + 8*x*y*(1 - u)**2 - 24*x*y*(1 - u)/(u - 1) + 24*x*y*(2/(u - 1) + 4/(u - 1)**2) + 2*y**3*(1 - u) - 8*y**3/(u - 1) - 6*y*(1 - u)**3 + 16*y*(1 - u)**2/(u - 1) - 12*y*(1 - u)*(2/(u - 1) + 4/(u - 1)**2) + 24*y*(4/(3*(u - 1)) + 8/(u - 1)**2 + 8/(u - 1)**3) + 4*y*(1 - u)**3/4**k + 12*x*y*(1 - u)**2*(-3*u/(u - 1) + 4 + 3/(u - 1))/3**k + 18*y*(1 - u)**4/(3**k*(u - 1)) + 24*y*(1 - u)**2*(-3*u/(u - 1) + 4 + 3/(u - 1))/(3**k*(u - 1)) + 12*x**2*y*(1 - u)*(-2*u/(u - 1) + (-u/(u - 1) + 1 + 1/(u - 1))**2 + 3 + 2/(u - 1))/2**k + 24*x*y*(1 - u)*((1 - u)**2*(-u/(u - 1) + 1 + 1/(u - 1))/(u - 1) + (1 - u)**2/(u - 1))/2**k + 48*x*y*(1 - u)*(-2*u/(u - 1) + (-u/(u - 1) + 1 + 1/(u - 1))**2 + 3 + 2/(u - 1))/(2**k*(u - 1)) - 4*y**3*(1 - u)*(-2*u/(u - 1) + (-u/(u - 1) + 1 + 1/(u - 1))**2 + 3 + 2/(u - 1))/2**k + 24*y*(1 - u)*(2/(u - 1) + 4/(u - 1)**2)*(-2*u/(u - 1) + (-u/(u - 1) + 1 + 1/(u - 1))**2 + 3 + 2/(u - 1))/2**k + 24*y*(1 - u)*((1 - u)**4/(4*(u - 1)**2) - 2*(1 - u)**3*(-u/(u - 1) + 1 + 1/(u - 1))/(3*(u - 1)) - 2*(1 - u)**3/(3*(u - 1)))/2**k + 48*y*(1 - u)*((1 - u)**2*(-u/(u - 1) + 1 + 1/(u - 1))/(u - 1) + (1 - u)**2/(u - 1))/(2**k*(u - 1))\n"
     ]
    }
   ],
   "source": [
    "import sympy as sp\n",
    "\n",
    "# Define symbols\n",
    "x, y, t, u, k = sp.symbols('x y t u k')\n",
    "\n",
    "# Define the polyexponential function Ei_k(x)\n",
    "def Ei_k(x, y, k, n_terms=10):\n",
    "    return sum((x**n) / (n**k * sp.factorial(n-1)) for n in range(1, n_terms + 1))\n",
    "\n",
    "# Define the generating function for Type 2 Frobenius-type poly-tangent polynomials\n",
    "numerator = Ei_k(sp.log(1 + (1 - u) * t), y, k) * sp.exp(x * t) * sp.sin(y*t)\n",
    "denominator = t * (sp.exp(2 * t) - u)\n",
    "generating_function = numerator / denominator\n",
    "\n",
    "# Number of terms to compute\n",
    "n_terms = 5\n",
    "\n",
    "# List to store the Type 2 Frobenius-type poly-tangent polynomials\n",
    "Frobenius_poly_tangent_polynomials = []\n",
    "\n",
    "# Compute the first few Type 2 Frobenius-type poly-tangent polynomials\n",
    "for n in range(n_terms):\n",
    "    # Expand the generating function in a Taylor series around t = 0 up to order n + 1\n",
    "    series_expansion = sp.series(generating_function, t, 0, n + 1)\n",
    "    \n",
    "    # Extract the coefficient of t^n and multiply by n! to get the polynomial\n",
    "    coefficient = series_expansion.coeff(t, n)\n",
    "    T_n = sp.factorial(n) * coefficient  # multiply by n! to get T_n(x, u)\n",
    "    \n",
    "    # Store the polynomial\n",
    "    Frobenius_poly_tangent_polynomials.append(T_n)\n",
    "\n",
    "# Print the first few Type 2 Frobenius-type poly-tangent polynomials\n",
    "for n, poly in enumerate(Frobenius_poly_tangent_polynomials):\n",
    "    print(f\"T_{n}^{(k)}(x, u): {poly}\")"
   ]
  }
 ],
 "metadata": {
  "kernelspec": {
   "display_name": "Python 3 (ipykernel)",
   "language": "python",
   "name": "python3"
  },
  "language_info": {
   "codemirror_mode": {
    "name": "ipython",
    "version": 3
   },
   "file_extension": ".py",
   "mimetype": "text/x-python",
   "name": "python",
   "nbconvert_exporter": "python",
   "pygments_lexer": "ipython3",
   "version": "3.13.1"
  }
 },
 "nbformat": 4,
 "nbformat_minor": 5
}
